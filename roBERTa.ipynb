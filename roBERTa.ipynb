{
  "cells": [
    {
      "cell_type": "markdown",
      "metadata": {
        "id": "view-in-github",
        "colab_type": "text"
      },
      "source": [
        "<a href=\"https://colab.research.google.com/github/awanish10singh/roBERTa/blob/main/roBERTa.ipynb\" target=\"_parent\"><img src=\"https://colab.research.google.com/assets/colab-badge.svg\" alt=\"Open In Colab\"/></a>"
      ]
    },
    {
      "cell_type": "code",
      "execution_count": 16,
      "metadata": {
        "colab": {
          "base_uri": "https://localhost:8080/"
        },
        "id": "UQjQkdMZDUsY",
        "outputId": "4f8b794c-0f7d-4152-cdd1-80834ce215ee"
      },
      "outputs": [
        {
          "output_type": "stream",
          "name": "stdout",
          "text": [
            "/content/drive/MyDrive/RAW/tokenizer_training\n",
            "[00:00:00] Pre-processing files (0 Mo)    ██████████████████                100%\r\u001b[2K[00:00:00] Pre-processing files (0 Mo)    ██████████████████                100%[00:00:00] Tokenize words                 ██████████████████ 0        /        0\r\u001b[2K[00:00:00] Tokenize words                 ██████████████████ 0        /        0\r\u001b[2K[00:00:00] Tokenize words                 ██████████████████ 0        /        0\r\u001b[2K[00:00:00] Tokenize words                 ██████████████████ 0        /        0\r\u001b[2K[00:00:00] Tokenize words                 ██████████████████ 0        /        0\n",
            "\r\u001b[2K[00:00:00] Count pairs                    ██████████████████ 0        /        0\r\u001b[2K[00:00:00] Count pairs                    ██████████████████ 0        /        0\r\u001b[2K[00:00:00] Count pairs                    ██████████████████ 0        /        0\r\u001b[2K[00:00:00] Count pairs                    ██████████████████ 0        /        0\r\u001b[2K[00:00:00] Count pairs                    ██████████████████ 0        /        0\n",
            "\r\u001b[2K[00:00:00] Compute merges                 ██████████████████ 0        /        0\r\u001b[2K[00:00:00] Compute merges                 ░░░░░░░░░░░░░░░░░░ 0        /    10000\r\u001b[2K[00:00:00] Compute merges                 ░░░░░░░░░░░░░░░░░░ 0        /    10000\r\u001b[2K[00:00:00] Compute merges                 ██████████████████ 0        /        0\r\u001b[2K[00:00:00] Compute merges                 ██████████████████ 0        /        0\n"
          ]
        }
      ],
      "source": [
        "vocab_size = 10000 #@param {type:\"integer\"}\n",
        "\n",
        "from google.colab import drive\n",
        "# drive.mount('/content/drive')\n",
        "train_data_file = '/content/drive/MyDrive/RAW/tokenizer_training' #@param {type:\"string\"}\n",
        "\n",
        "output_folder = '/content/Trained_tokenizer' #@param {type:\"string\"}\n",
        "\n",
        "!python3 /content/Code/tokenizer_training.py --vocab_size {vocab_size} --train_data_file {train_data_file} --output_dir {output_folder}\n"
      ]
    },
    {
      "cell_type": "code",
      "execution_count": 17,
      "metadata": {
        "colab": {
          "base_uri": "https://localhost:8080/"
        },
        "id": "2CqwRdIjJ8kj",
        "outputId": "6f606095-a3e8-437a-98f3-264d749f405c"
      },
      "outputs": [
        {
          "output_type": "stream",
          "name": "stdout",
          "text": [
            "Requirement already satisfied: wandb in /usr/local/lib/python3.10/dist-packages (0.16.4)\n",
            "Requirement already satisfied: Click!=8.0.0,>=7.1 in /usr/local/lib/python3.10/dist-packages (from wandb) (8.1.7)\n",
            "Requirement already satisfied: GitPython!=3.1.29,>=1.0.0 in /usr/local/lib/python3.10/dist-packages (from wandb) (3.1.42)\n",
            "Requirement already satisfied: requests<3,>=2.0.0 in /usr/local/lib/python3.10/dist-packages (from wandb) (2.31.0)\n",
            "Requirement already satisfied: psutil>=5.0.0 in /usr/local/lib/python3.10/dist-packages (from wandb) (5.9.5)\n",
            "Requirement already satisfied: sentry-sdk>=1.0.0 in /usr/local/lib/python3.10/dist-packages (from wandb) (1.42.0)\n",
            "Requirement already satisfied: docker-pycreds>=0.4.0 in /usr/local/lib/python3.10/dist-packages (from wandb) (0.4.0)\n",
            "Requirement already satisfied: PyYAML in /usr/local/lib/python3.10/dist-packages (from wandb) (6.0.1)\n",
            "Requirement already satisfied: setproctitle in /usr/local/lib/python3.10/dist-packages (from wandb) (1.3.3)\n",
            "Requirement already satisfied: setuptools in /usr/local/lib/python3.10/dist-packages (from wandb) (67.7.2)\n",
            "Requirement already satisfied: appdirs>=1.4.3 in /usr/local/lib/python3.10/dist-packages (from wandb) (1.4.4)\n",
            "Requirement already satisfied: protobuf!=4.21.0,<5,>=3.19.0 in /usr/local/lib/python3.10/dist-packages (from wandb) (3.20.3)\n",
            "Requirement already satisfied: six>=1.4.0 in /usr/local/lib/python3.10/dist-packages (from docker-pycreds>=0.4.0->wandb) (1.16.0)\n",
            "Requirement already satisfied: gitdb<5,>=4.0.1 in /usr/local/lib/python3.10/dist-packages (from GitPython!=3.1.29,>=1.0.0->wandb) (4.0.11)\n",
            "Requirement already satisfied: charset-normalizer<4,>=2 in /usr/local/lib/python3.10/dist-packages (from requests<3,>=2.0.0->wandb) (3.3.2)\n",
            "Requirement already satisfied: idna<4,>=2.5 in /usr/local/lib/python3.10/dist-packages (from requests<3,>=2.0.0->wandb) (3.6)\n",
            "Requirement already satisfied: urllib3<3,>=1.21.1 in /usr/local/lib/python3.10/dist-packages (from requests<3,>=2.0.0->wandb) (2.0.7)\n",
            "Requirement already satisfied: certifi>=2017.4.17 in /usr/local/lib/python3.10/dist-packages (from requests<3,>=2.0.0->wandb) (2024.2.2)\n",
            "Requirement already satisfied: smmap<6,>=3.0.1 in /usr/local/lib/python3.10/dist-packages (from gitdb<5,>=4.0.1->GitPython!=3.1.29,>=1.0.0->wandb) (5.0.1)\n"
          ]
        }
      ],
      "source": [
        "!pip install wandb"
      ]
    },
    {
      "cell_type": "code",
      "execution_count": 18,
      "metadata": {
        "colab": {
          "base_uri": "https://localhost:8080/"
        },
        "id": "EiCRPs6rHh1O",
        "outputId": "41bed982-7ea0-43f9-9c36-931a9357ba04"
      },
      "outputs": [
        {
          "output_type": "stream",
          "name": "stdout",
          "text": [
            "2024-03-15 00:55:06.327157: E external/local_xla/xla/stream_executor/cuda/cuda_dnn.cc:9261] Unable to register cuDNN factory: Attempting to register factory for plugin cuDNN when one has already been registered\n",
            "2024-03-15 00:55:06.327295: E external/local_xla/xla/stream_executor/cuda/cuda_fft.cc:607] Unable to register cuFFT factory: Attempting to register factory for plugin cuFFT when one has already been registered\n",
            "2024-03-15 00:55:06.430225: E external/local_xla/xla/stream_executor/cuda/cuda_blas.cc:1515] Unable to register cuBLAS factory: Attempting to register factory for plugin cuBLAS when one has already been registered\n",
            "2024-03-15 00:55:08.590071: W tensorflow/compiler/tf2tensorrt/utils/py_utils.cc:38] TF-TRT Warning: Could not find TensorRT\n",
            "Create sweep with ID: kbcujjuw\n",
            "Sweep URL: https://wandb.ai/awanishsudoku/uncategorized/sweeps/kbcujjuw\n",
            "\u001b[34m\u001b[1mwandb\u001b[0m: Agent Starting Run: epsl4kg5 with config:\n",
            "\u001b[34m\u001b[1mwandb\u001b[0m: \tbatch_size: 8\n",
            "\u001b[34m\u001b[1mwandb\u001b[0m: \tepochs: 50\n",
            "\u001b[34m\u001b[1mwandb\u001b[0m: \tgradient_accumulation_steps: 4\n",
            "\u001b[34m\u001b[1mwandb\u001b[0m: \thidden_size: 768\n",
            "\u001b[34m\u001b[1mwandb\u001b[0m: \tintermediate_size: 4096\n",
            "\u001b[34m\u001b[1mwandb\u001b[0m: \tlearning_rate: 5e-05\n",
            "\u001b[34m\u001b[1mwandb\u001b[0m: \tnum_attention_heads: 16\n",
            "\u001b[34m\u001b[1mwandb\u001b[0m: \tnum_hidden_layers: 12\n",
            "\u001b[34m\u001b[1mwandb\u001b[0m: \tvocab_size: 1130\n",
            "\u001b[34m\u001b[1mwandb\u001b[0m: Currently logged in as: \u001b[33mawanishsudoku\u001b[0m. Use \u001b[1m`wandb login --relogin`\u001b[0m to force relogin\n",
            "\u001b[34m\u001b[1mwandb\u001b[0m: \u001b[33mWARNING\u001b[0m Ignored wandb.init() arg project when running a sweep.\n",
            "\u001b[34m\u001b[1mwandb\u001b[0m: Tracking run with wandb version 0.16.4\n",
            "\u001b[34m\u001b[1mwandb\u001b[0m: Run data is saved locally in \u001b[35m\u001b[1m/content/wandb/run-20240315_005514-epsl4kg5\u001b[0m\n",
            "\u001b[34m\u001b[1mwandb\u001b[0m: Run \u001b[1m`wandb offline`\u001b[0m to turn off syncing.\n",
            "\u001b[34m\u001b[1mwandb\u001b[0m: Syncing run \u001b[33mradiant-sweep-1\u001b[0m\n",
            "\u001b[34m\u001b[1mwandb\u001b[0m: ⭐️ View project at \u001b[34m\u001b[4mhttps://wandb.ai/awanishsudoku/uncategorized\u001b[0m\n",
            "\u001b[34m\u001b[1mwandb\u001b[0m: 🧹 View sweep at \u001b[34m\u001b[4mhttps://wandb.ai/awanishsudoku/uncategorized/sweeps/kbcujjuw\u001b[0m\n",
            "\u001b[34m\u001b[1mwandb\u001b[0m: 🚀 View run at \u001b[34m\u001b[4mhttps://wandb.ai/awanishsudoku/uncategorized/runs/epsl4kg5\u001b[0m\n",
            "\u001b[34m\u001b[1mwandb\u001b[0m: \u001b[33mWARNING\u001b[0m Calling wandb.run.save without any arguments is deprecated.Changes to attributes are automatically persisted.\n",
            "03/15/2024 00:55:15 - WARNING - __main__ -   Process rank: -1, device: cuda, n_gpu: 1, distributed training: False, 16-bits training: False\n",
            "03/15/2024 00:55:15 - INFO - __main__ -   Training new model from scratch\n",
            "03/15/2024 00:55:17 - INFO - __main__ -   Training/evaluation parameters <__main__.Args object at 0x7933ee62caf0>\n",
            "^C\n"
          ]
        }
      ],
      "source": [
        "train_data_file = '/content/drive/MyDrive/RAW/training_masked_code' #@param {type:\"string\"}\n",
        "eval_data_file = '/content/drive/MyDrive/RAW/eval_masked_code' #@param {type:\"string\"}\n",
        "outout_folder = '/content/Trained_model' #@param {type:\"string\"}\n",
        "tokenizer_name = '/content/Trained_tokenizer' #@param {type:\"string\"}\n",
        "\n",
        "\n",
        "!python3 /content/Code/run_training.py --train_data_file {train_data_file} --eval_data_file {eval_data_file} --output_root {output_folder} --tokenizer_name {tokenizer_name} --vocab_size {vocab_size}"
      ]
    },
    {
      "cell_type": "code",
      "source": [
        "# import shutil\n",
        "\n",
        "# shutil.rmtree('/content/wandb')"
      ],
      "metadata": {
        "id": "1SSeJgbumbi6"
      },
      "execution_count": 15,
      "outputs": []
    }
  ],
  "metadata": {
    "colab": {
      "provenance": [],
      "gpuType": "T4",
      "mount_file_id": "1hAbvs0KlYDIsFM2erDUVIXMo4GGKC0pj",
      "authorship_tag": "ABX9TyMeeMTKOelRSjZ8GAre1tXX",
      "include_colab_link": true
    },
    "kernelspec": {
      "display_name": "Python 3",
      "name": "python3"
    },
    "language_info": {
      "name": "python"
    },
    "accelerator": "GPU"
  },
  "nbformat": 4,
  "nbformat_minor": 0
}